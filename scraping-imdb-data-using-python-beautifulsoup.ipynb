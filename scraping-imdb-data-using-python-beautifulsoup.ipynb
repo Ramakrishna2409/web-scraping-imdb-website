{
 "cells": [
  {
   "cell_type": "markdown",
   "metadata": {},
   "source": [
    "# Scraping IMDb Data using Python BeautifulSoup\n",
    "\n"
   ]
  },
  {
   "cell_type": "markdown",
   "metadata": {},
   "source": [
    "![img](https://i.imgur.com/H7ixzu6.png)"
   ]
  },
  {
   "cell_type": "markdown",
   "metadata": {},
   "source": [
    "### Outline of the project:\n",
    "\n",
    "- Introduction about web scraping\n",
    "- Introduction about IMDB and the purpose of it\n",
    "- We're using (Python, requests, Beautiful Soup, Pandas)"
   ]
  },
  {
   "cell_type": "markdown",
   "metadata": {},
   "source": [
    "### About web scraping\n",
    "Web scraping consists in gathering data available on websites. This can be done manually by a human user or by a bot. The latter can of course gather data much faster than a human user and that is why we are going to focus on this. Is it therefore technically possible to collect all the data of a website in a matter of minutes this kind of bot. The legality of this practice is not well defined however. Websites usually describe in their terms of use and in their robots.txt file if they allow scrapers or not."
   ]
  },
  {
   "cell_type": "markdown",
   "metadata": {},
   "source": [
    "### Introduction to IMDb Website"
   ]
  },
  {
   "cell_type": "markdown",
   "metadata": {},
   "source": [
    "IMDb (an acronym for Internet Movie Database) is an online database of information related to films, television programs, home videos, video games, and streaming content online - including cast, production crew and personal biographies, plot summaries, trivia, ratings, and fan and critical reviews."
   ]
  },
  {
   "cell_type": "markdown",
   "metadata": {},
   "source": [
    "Here are steps we'll follow:\n",
    "\n",
    "- We're going to scrape https://www.imdb.com/search/title/?groups=top_1000&sort=user_rating,desc&count=100&start=000&ref_=adv_nxt \n",
    "- We'll get a list of movies.For each movie,we'll get movie title, Movie genre, Movie  duration, Movie rating, movie year,Movie certification,Movie url\n",
    "- we'll create a csv file in the followig format:\n",
    "``` \n",
    "Movie Name, Genre, Duration,Rating, Year, Certification, URL\n",
    "JaiBhim, 'Crime, Drama',164, 9.5,2021, A, imdb.com/title/tt15097216/?ref_=adv_li_tt\n",
    "The Shawshank Redemption,'Drama', 142,9.3, 1994,R,imdb.com/title/tt0111161/?ref_=adv_li_tt\n",
    "```"
   ]
  },
  {
   "cell_type": "markdown",
   "metadata": {},
   "source": [
    "## Scrape the list of titles from IMDb\n",
    "\n",
    "\n",
    "\n",
    "- use requests to download the page\n",
    "- use BS4 to parse and extract information\n",
    "- convert to a Pandas dataframe"
   ]
  },
  {
   "cell_type": "markdown",
   "metadata": {},
   "source": [
    "Let's write a function to download the page."
   ]
  },
  {
   "cell_type": "code",
   "execution_count": 24,
   "metadata": {},
   "outputs": [],
   "source": [
    "import requests\n",
    "from bs4 import BeautifulSoup\n",
    "\n",
    "def get_topics_page(url):\n",
    "    \n",
    "    \n",
    "    response=requests.get(url)\n",
    "    # check successfull response\n",
    "    if response.status_code != 200:\n",
    "        raise Exception(f'Failed to load page {topic_url}')\n",
    "    # Parse using BeautifulSoup\n",
    "    doc = BeautifulSoup(response.text, 'html.parser')\n",
    "    return doc\n",
    "\n"
   ]
  },
  {
   "cell_type": "code",
   "execution_count": 25,
   "metadata": {},
   "outputs": [],
   "source": [
    "topic_url = 'https://www.imdb.com/search/title/?groups=top_1000&sort=user_rating,desc&count=100&start=000&ref_=adv_next'\n",
    "doc = get_topics_page(topic_url)"
   ]
  },
  {
   "cell_type": "markdown",
   "metadata": {},
   "source": [
    "doc contains code like below"
   ]
  },
  {
   "cell_type": "markdown",
   "metadata": {},
   "source": [
    "![img](https://i.imgur.com/IMxQO7G.png)"
   ]
  },
  {
   "cell_type": "code",
   "execution_count": 26,
   "metadata": {},
   "outputs": [
    {
     "data": {
      "text/plain": [
       "<title>IMDb \"Top 1000\"\n",
       "(Sorted by IMDb Rating Descending) - IMDb</title>"
      ]
     },
     "execution_count": 26,
     "metadata": {},
     "output_type": "execute_result"
    }
   ],
   "source": [
    "doc.find('title')"
   ]
  },
  {
   "cell_type": "markdown",
   "metadata": {},
   "source": [
    "Let's create some helper functions to parse information from the page"
   ]
  },
  {
   "cell_type": "markdown",
   "metadata": {},
   "source": [
    "### To get title of movie"
   ]
  },
  {
   "cell_type": "code",
   "execution_count": 3,
   "metadata": {},
   "outputs": [],
   "source": [
    "def get_movie_titles(doc):\n",
    "    \n",
    "    selection_class=\"lister-item-header\"\n",
    "    movie_title_tags=doc.find_all('h3',{'class':selection_class})\n",
    "    movie_titles=[]\n",
    "\n",
    "    for tag in movie_title_tags:\n",
    "        title = tag.find('a').text\n",
    "        movie_titles.append(title)\n",
    "        \n",
    "        \n",
    "    return movie_titles"
   ]
  },
  {
   "cell_type": "code",
   "execution_count": 4,
   "metadata": {},
   "outputs": [],
   "source": [
    "titles = get_movie_titles(doc)"
   ]
  },
  {
   "cell_type": "code",
   "execution_count": 6,
   "metadata": {},
   "outputs": [
    {
     "data": {
      "text/plain": [
       "['Jai Bhim',\n",
       " 'The Shawshank Redemption',\n",
       " 'The Godfather',\n",
       " 'Soorarai Pottru',\n",
       " 'The Dark Knight']"
      ]
     },
     "execution_count": 6,
     "metadata": {},
     "output_type": "execute_result"
    }
   ],
   "source": [
    "titles[:5]"
   ]
  },
  {
   "cell_type": "markdown",
   "metadata": {},
   "source": [
    "Similarly we defined functions for movie url, ratings, certification, duration and  year"
   ]
  },
  {
   "cell_type": "markdown",
   "metadata": {},
   "source": [
    "### To get URL's of movie"
   ]
  },
  {
   "cell_type": "code",
   "execution_count": 5,
   "metadata": {},
   "outputs": [],
   "source": [
    "def get_movie_url(doc):\n",
    "    url_selector=\"lister-item-header\"           \n",
    "    movie_url_tags=doc.find_all('h3',{'class':url_selector})\n",
    "    movie_url_tagss=[]\n",
    "    base_url = 'https://www.imdb.com/'\n",
    "    for tag in movie_url_tags:\n",
    "        movie_url_tagss.append('https://www.imdb.com/' + tag.find('a')['href'])\n",
    "    return movie_url_tagss"
   ]
  },
  {
   "cell_type": "code",
   "execution_count": 6,
   "metadata": {},
   "outputs": [],
   "source": [
    "urls = get_movie_url(doc)"
   ]
  },
  {
   "cell_type": "code",
   "execution_count": 9,
   "metadata": {},
   "outputs": [
    {
     "data": {
      "text/plain": [
       "['https://www.imdb.com//title/tt15097216/',\n",
       " 'https://www.imdb.com//title/tt0111161/',\n",
       " 'https://www.imdb.com//title/tt0068646/',\n",
       " 'https://www.imdb.com//title/tt10189514/',\n",
       " 'https://www.imdb.com//title/tt0468569/']"
      ]
     },
     "execution_count": 9,
     "metadata": {},
     "output_type": "execute_result"
    }
   ],
   "source": [
    "urls[:5]"
   ]
  },
  {
   "cell_type": "markdown",
   "metadata": {},
   "source": [
    "### To get movie duration"
   ]
  },
  {
   "cell_type": "code",
   "execution_count": 7,
   "metadata": {},
   "outputs": [],
   "source": [
    "def get_movie_duration(doc):\n",
    "    \n",
    "    selection_class=\"runtime\"\n",
    "    movie_duration_tags=doc.find_all('span',{'class':selection_class})\n",
    "    movie_duration=[]\n",
    "\n",
    "    for tag in movie_duration_tags:\n",
    "        duration = tag.text[:-4]\n",
    "        movie_duration.append(duration)\n",
    "        \n",
    "        \n",
    "    return movie_duration"
   ]
  },
  {
   "cell_type": "code",
   "execution_count": 8,
   "metadata": {},
   "outputs": [],
   "source": [
    "durations = get_movie_duration(doc)"
   ]
  },
  {
   "cell_type": "code",
   "execution_count": 12,
   "metadata": {},
   "outputs": [
    {
     "data": {
      "text/plain": [
       "['164', '142', '175', '153', '152']"
      ]
     },
     "execution_count": 12,
     "metadata": {},
     "output_type": "execute_result"
    }
   ],
   "source": [
    "durations[:5]"
   ]
  },
  {
   "cell_type": "markdown",
   "metadata": {},
   "source": [
    "### To get certification of movie"
   ]
  },
  {
   "cell_type": "code",
   "execution_count": 9,
   "metadata": {},
   "outputs": [],
   "source": [
    "def get_movie_certification(doc):\n",
    "    \n",
    "    selection_class=\"lister-item-content\"\n",
    "    movie_details_tags = doc.find_all('div',{'class':selection_class})\n",
    "    movie_certification=[]\n",
    "    \n",
    "\n",
    "    for detail_tag in movie_details_tags:\n",
    "        \n",
    "        certification_tag = detail_tag.find('span',{'class':'certificate'})\n",
    "        if certification_tag:\n",
    "            movie_certification.append(certification_tag.text)\n",
    "        else:\n",
    "            movie_certification.append('NA')                                                           \n",
    "        \n",
    "    return movie_certification"
   ]
  },
  {
   "cell_type": "code",
   "execution_count": 10,
   "metadata": {},
   "outputs": [],
   "source": [
    "certifications = get_movie_certification(doc)"
   ]
  },
  {
   "cell_type": "code",
   "execution_count": 15,
   "metadata": {},
   "outputs": [
    {
     "data": {
      "text/plain": [
       "['NA', 'R', 'R', 'TV-MA', 'PG-13']"
      ]
     },
     "execution_count": 15,
     "metadata": {},
     "output_type": "execute_result"
    }
   ],
   "source": [
    "certifications[:5]"
   ]
  },
  {
   "cell_type": "markdown",
   "metadata": {},
   "source": [
    "### To get year of movie"
   ]
  },
  {
   "cell_type": "code",
   "execution_count": 11,
   "metadata": {
    "code_folding": []
   },
   "outputs": [],
   "source": [
    "def get_movie_year(doc):\n",
    "    year_selector = \"lister-item-year text-muted unbold\"           \n",
    "    movie_year_tags=doc.find_all('span',{'class':year_selector})\n",
    "    movie_year_tagss=[]\n",
    "    for tag in movie_year_tags:\n",
    "        movie_year_tagss.append(tag.get_text().strip()[1:5])\n",
    "    return movie_year_tagss"
   ]
  },
  {
   "cell_type": "code",
   "execution_count": 12,
   "metadata": {},
   "outputs": [],
   "source": [
    "years = get_movie_year(doc)"
   ]
  },
  {
   "cell_type": "code",
   "execution_count": 18,
   "metadata": {},
   "outputs": [
    {
     "data": {
      "text/plain": [
       "['2021', '1994', '1972', '2020', '2008']"
      ]
     },
     "execution_count": 18,
     "metadata": {},
     "output_type": "execute_result"
    }
   ],
   "source": [
    "years[:5]"
   ]
  },
  {
   "cell_type": "markdown",
   "metadata": {},
   "source": [
    "### To get genre of movie"
   ]
  },
  {
   "cell_type": "code",
   "execution_count": 13,
   "metadata": {},
   "outputs": [],
   "source": [
    "def get_movie_genre(doc):\n",
    "    genre_selector=\"genre\"            \n",
    "    movie_genre_tags=doc.find_all('span',{'class':genre_selector})\n",
    "    movie_genre_tagss=[]\n",
    "    for tag in movie_genre_tags:\n",
    "        movie_genre_tagss.append(tag.get_text().strip())\n",
    "    return movie_genre_tagss"
   ]
  },
  {
   "cell_type": "code",
   "execution_count": 14,
   "metadata": {},
   "outputs": [],
   "source": [
    "genres = get_movie_genre(doc)"
   ]
  },
  {
   "cell_type": "code",
   "execution_count": 21,
   "metadata": {},
   "outputs": [
    {
     "data": {
      "text/plain": [
       "['Crime, Drama', 'Drama', 'Crime, Drama', 'Drama', 'Action, Crime, Drama']"
      ]
     },
     "execution_count": 21,
     "metadata": {},
     "output_type": "execute_result"
    }
   ],
   "source": [
    "genres[:5]"
   ]
  },
  {
   "cell_type": "markdown",
   "metadata": {},
   "source": [
    "### To get ratings of movie"
   ]
  },
  {
   "cell_type": "code",
   "execution_count": 15,
   "metadata": {},
   "outputs": [],
   "source": [
    "def get_movie_rating(doc):\n",
    "    rating_selector=\"inline-block ratings-imdb-rating\"            \n",
    "    movie_rating_tags=doc.find_all('div',{'class':rating_selector})\n",
    "    movie_rating_tagss=[]\n",
    "    for tag in movie_rating_tags:\n",
    "        movie_rating_tagss.append(tag.get_text().strip())\n",
    "    return movie_rating_tagss"
   ]
  },
  {
   "cell_type": "code",
   "execution_count": 16,
   "metadata": {},
   "outputs": [],
   "source": [
    "ratings = get_movie_rating(doc)"
   ]
  },
  {
   "cell_type": "code",
   "execution_count": 24,
   "metadata": {},
   "outputs": [
    {
     "data": {
      "text/plain": [
       "['9.5', '9.3', '9.2', '9.1', '9.0']"
      ]
     },
     "execution_count": 24,
     "metadata": {},
     "output_type": "execute_result"
    }
   ],
   "source": [
    "ratings[:5]"
   ]
  },
  {
   "cell_type": "markdown",
   "metadata": {},
   "source": [
    "Let's put all together into a single function"
   ]
  },
  {
   "cell_type": "code",
   "execution_count": 17,
   "metadata": {},
   "outputs": [],
   "source": [
    "import pandas as pd"
   ]
  },
  {
   "cell_type": "code",
   "execution_count": 28,
   "metadata": {},
   "outputs": [],
   "source": [
    "def all_pages(num=10):\n",
    "# Let's we create a dictionary to store data of all movies\n",
    "    movies_dict={\n",
    "        'titles':[],\n",
    "        'genre':[],\n",
    "        'duration':[],\n",
    "        'rating':[],\n",
    "        'year':[],\n",
    "        'certification':[],\n",
    "        'url':[]\n",
    "    }\n",
    "  # We have to scrap more than one page so we want urls of all pages with the help of loop we can get all urls\n",
    "    for i in range(1,num*110,100):\n",
    "       \n",
    "        url = 'https://www.imdb.com/search/title/?groups=top_1000&sort=user_rating,desc&count=100&start='+str(i)+'&ref_=adv_next'\n",
    "        doc = get_topics_page(url)\n",
    "   \n",
    "        \n",
    "        movies_dict['titles'] += get_movie_titles(doc)\n",
    "        movies_dict['url'] += get_movie_url(doc)\n",
    "        movies_dict['certification'] += get_movie_certification(doc)\n",
    "        movies_dict['rating'] += get_movie_rating(doc)\n",
    "        movies_dict['duration'] += get_movie_duration(doc)\n",
    "        movies_dict['year'] += get_movie_year(doc)\n",
    "        movies_dict['genre'] += get_movie_genre(doc)   \n",
    "        \n",
    "    return pd.DataFrame(movies_dict)\n"
   ]
  },
  {
   "cell_type": "code",
   "execution_count": 29,
   "metadata": {},
   "outputs": [],
   "source": [
    "movies = all_pages()"
   ]
  },
  {
   "cell_type": "code",
   "execution_count": 30,
   "metadata": {},
   "outputs": [],
   "source": [
    "movies.to_csv('movies.csv',index=None)"
   ]
  },
  {
   "cell_type": "markdown",
   "metadata": {},
   "source": [
    "movies csv file has been created, which contains the data that we've scrapped"
   ]
  },
  {
   "cell_type": "code",
   "execution_count": 31,
   "metadata": {},
   "outputs": [],
   "source": [
    "dataframe = pd.read_csv('movies.csv')"
   ]
  },
  {
   "cell_type": "code",
   "execution_count": 32,
   "metadata": {},
   "outputs": [
    {
     "data": {
      "text/html": [
       "<div>\n",
       "<style scoped>\n",
       "    .dataframe tbody tr th:only-of-type {\n",
       "        vertical-align: middle;\n",
       "    }\n",
       "\n",
       "    .dataframe tbody tr th {\n",
       "        vertical-align: top;\n",
       "    }\n",
       "\n",
       "    .dataframe thead th {\n",
       "        text-align: right;\n",
       "    }\n",
       "</style>\n",
       "<table border=\"1\" class=\"dataframe\">\n",
       "  <thead>\n",
       "    <tr style=\"text-align: right;\">\n",
       "      <th></th>\n",
       "      <th>titles</th>\n",
       "      <th>genre</th>\n",
       "      <th>duration</th>\n",
       "      <th>rating</th>\n",
       "      <th>year</th>\n",
       "      <th>certification</th>\n",
       "      <th>url</th>\n",
       "    </tr>\n",
       "  </thead>\n",
       "  <tbody>\n",
       "    <tr>\n",
       "      <th>0</th>\n",
       "      <td>Jai Bhim</td>\n",
       "      <td>Crime, Drama</td>\n",
       "      <td>164</td>\n",
       "      <td>9.5</td>\n",
       "      <td>2021</td>\n",
       "      <td>NaN</td>\n",
       "      <td>https://www.imdb.com//title/tt15097216/</td>\n",
       "    </tr>\n",
       "    <tr>\n",
       "      <th>1</th>\n",
       "      <td>The Shawshank Redemption</td>\n",
       "      <td>Drama</td>\n",
       "      <td>142</td>\n",
       "      <td>9.3</td>\n",
       "      <td>1994</td>\n",
       "      <td>R</td>\n",
       "      <td>https://www.imdb.com//title/tt0111161/</td>\n",
       "    </tr>\n",
       "    <tr>\n",
       "      <th>2</th>\n",
       "      <td>The Godfather</td>\n",
       "      <td>Crime, Drama</td>\n",
       "      <td>175</td>\n",
       "      <td>9.2</td>\n",
       "      <td>1972</td>\n",
       "      <td>R</td>\n",
       "      <td>https://www.imdb.com//title/tt0068646/</td>\n",
       "    </tr>\n",
       "    <tr>\n",
       "      <th>3</th>\n",
       "      <td>Soorarai Pottru</td>\n",
       "      <td>Drama</td>\n",
       "      <td>153</td>\n",
       "      <td>9.1</td>\n",
       "      <td>2020</td>\n",
       "      <td>TV-MA</td>\n",
       "      <td>https://www.imdb.com//title/tt10189514/</td>\n",
       "    </tr>\n",
       "    <tr>\n",
       "      <th>4</th>\n",
       "      <td>The Dark Knight</td>\n",
       "      <td>Action, Crime, Drama</td>\n",
       "      <td>152</td>\n",
       "      <td>9.0</td>\n",
       "      <td>2008</td>\n",
       "      <td>PG-13</td>\n",
       "      <td>https://www.imdb.com//title/tt0468569/</td>\n",
       "    </tr>\n",
       "    <tr>\n",
       "      <th>...</th>\n",
       "      <td>...</td>\n",
       "      <td>...</td>\n",
       "      <td>...</td>\n",
       "      <td>...</td>\n",
       "      <td>...</td>\n",
       "      <td>...</td>\n",
       "      <td>...</td>\n",
       "    </tr>\n",
       "    <tr>\n",
       "      <th>1995</th>\n",
       "      <td>Drishyam</td>\n",
       "      <td>Crime, Drama, Thriller</td>\n",
       "      <td>160</td>\n",
       "      <td>8.3</td>\n",
       "      <td>2013</td>\n",
       "      <td>Not Rated</td>\n",
       "      <td>https://www.imdb.com//title/tt3417422/</td>\n",
       "    </tr>\n",
       "    <tr>\n",
       "      <th>1996</th>\n",
       "      <td>The Hunt</td>\n",
       "      <td>Drama</td>\n",
       "      <td>115</td>\n",
       "      <td>8.3</td>\n",
       "      <td>2012</td>\n",
       "      <td>R</td>\n",
       "      <td>https://www.imdb.com//title/tt2106476/</td>\n",
       "    </tr>\n",
       "    <tr>\n",
       "      <th>1997</th>\n",
       "      <td>A Separation</td>\n",
       "      <td>Drama</td>\n",
       "      <td>123</td>\n",
       "      <td>8.3</td>\n",
       "      <td>2011</td>\n",
       "      <td>PG-13</td>\n",
       "      <td>https://www.imdb.com//title/tt1832382/</td>\n",
       "    </tr>\n",
       "    <tr>\n",
       "      <th>1998</th>\n",
       "      <td>Incendies</td>\n",
       "      <td>Drama, Mystery, War</td>\n",
       "      <td>131</td>\n",
       "      <td>8.3</td>\n",
       "      <td>2010</td>\n",
       "      <td>R</td>\n",
       "      <td>https://www.imdb.com//title/tt1255953/</td>\n",
       "    </tr>\n",
       "    <tr>\n",
       "      <th>1999</th>\n",
       "      <td>The Father</td>\n",
       "      <td>Drama, Mystery</td>\n",
       "      <td>97</td>\n",
       "      <td>8.3</td>\n",
       "      <td>I) (</td>\n",
       "      <td>PG-13</td>\n",
       "      <td>https://www.imdb.com//title/tt10272386/</td>\n",
       "    </tr>\n",
       "  </tbody>\n",
       "</table>\n",
       "<p>2000 rows × 7 columns</p>\n",
       "</div>"
      ],
      "text/plain": [
       "                        titles                   genre  duration  rating  \\\n",
       "0                     Jai Bhim            Crime, Drama       164     9.5   \n",
       "1     The Shawshank Redemption                   Drama       142     9.3   \n",
       "2                The Godfather            Crime, Drama       175     9.2   \n",
       "3              Soorarai Pottru                   Drama       153     9.1   \n",
       "4              The Dark Knight    Action, Crime, Drama       152     9.0   \n",
       "...                        ...                     ...       ...     ...   \n",
       "1995                  Drishyam  Crime, Drama, Thriller       160     8.3   \n",
       "1996                  The Hunt                   Drama       115     8.3   \n",
       "1997              A Separation                   Drama       123     8.3   \n",
       "1998                 Incendies     Drama, Mystery, War       131     8.3   \n",
       "1999                The Father          Drama, Mystery        97     8.3   \n",
       "\n",
       "      year certification                                      url  \n",
       "0     2021           NaN  https://www.imdb.com//title/tt15097216/  \n",
       "1     1994             R   https://www.imdb.com//title/tt0111161/  \n",
       "2     1972             R   https://www.imdb.com//title/tt0068646/  \n",
       "3     2020         TV-MA  https://www.imdb.com//title/tt10189514/  \n",
       "4     2008         PG-13   https://www.imdb.com//title/tt0468569/  \n",
       "...    ...           ...                                      ...  \n",
       "1995  2013     Not Rated   https://www.imdb.com//title/tt3417422/  \n",
       "1996  2012             R   https://www.imdb.com//title/tt2106476/  \n",
       "1997  2011         PG-13   https://www.imdb.com//title/tt1832382/  \n",
       "1998  2010             R   https://www.imdb.com//title/tt1255953/  \n",
       "1999  I) (         PG-13  https://www.imdb.com//title/tt10272386/  \n",
       "\n",
       "[2000 rows x 7 columns]"
      ]
     },
     "execution_count": 32,
     "metadata": {},
     "output_type": "execute_result"
    }
   ],
   "source": [
    "dataframe"
   ]
  },
  {
   "cell_type": "markdown",
   "metadata": {},
   "source": [
    "### Summary"
   ]
  },
  {
   "cell_type": "markdown",
   "metadata": {},
   "source": [
    "In this project, we scrapped the specific data, which we want using Python programming language, requests and BeautifulSoup library  have been used to download the pages and then exploring and getting the relevant data from the website. Further the work has been in a csv file to be used for further processing.We've created a dataframe which consists of 1000 rows and 7 columns fom 10 pages."
   ]
  },
  {
   "cell_type": "markdown",
   "metadata": {},
   "source": [
    "### Future Works"
   ]
  },
  {
   "cell_type": "markdown",
   "metadata": {},
   "source": [
    "The current web scrappning project is a starting point for a bigger NLP project. The updates of which will be posted afterwards. In this project I started to look into some of the websites where I could get the data for movies in IMDm website.\n"
   ]
  },
  {
   "cell_type": "markdown",
   "metadata": {},
   "source": [
    "## References"
   ]
  },
  {
   "cell_type": "markdown",
   "metadata": {},
   "source": [
    "1. https://jovian.ai/learn/zero-to-data-analyst-bootcamp/lesson/web-scraping-and-rest-apis\n",
    "2. https://www.crummy.com/software/BeautifulSoup/bs4/doc/\n",
    "3. https://docs.python-requests.org/en/master/"
   ]
  },
  {
   "cell_type": "markdown",
   "metadata": {},
   "source": [
    "## Commiting the work on Jovian platform along with the required file"
   ]
  },
  {
   "cell_type": "code",
   "execution_count": null,
   "metadata": {},
   "outputs": [
    {
     "data": {
      "application/javascript": [
       "window.require && require([\"base/js/namespace\"],function(Jupyter){Jupyter.notebook.save_checkpoint()})"
      ],
      "text/plain": [
       "<IPython.core.display.Javascript object>"
      ]
     },
     "metadata": {},
     "output_type": "display_data"
    }
   ],
   "source": [
    "# Execute this to save new versions of the notebook\n",
    "jovian.commit(project=\"scraping-IMDb-data-using-python-beautifulsoup\",files =['movies.csv'])"
   ]
  },
  {
   "cell_type": "code",
   "execution_count": null,
   "metadata": {},
   "outputs": [],
   "source": []
  }
 ],
 "metadata": {
  "kernelspec": {
   "display_name": "Python 3 (ipykernel)",
   "language": "python",
   "name": "python3"
  },
  "language_info": {
   "codemirror_mode": {
    "name": "ipython",
    "version": 3
   },
   "file_extension": ".py",
   "mimetype": "text/x-python",
   "name": "python",
   "nbconvert_exporter": "python",
   "pygments_lexer": "ipython3",
   "version": "3.9.6"
  }
 },
 "nbformat": 4,
 "nbformat_minor": 2
}
